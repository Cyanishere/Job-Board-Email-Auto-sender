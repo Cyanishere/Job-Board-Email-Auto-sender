{
 "cells": [
  {
   "cell_type": "code",
   "execution_count": 16,
   "id": "c6a013f0",
   "metadata": {},
   "outputs": [],
   "source": [
    "import requests\n",
    "from bs4 import BeautifulSoup"
   ]
  },
  {
   "cell_type": "code",
   "execution_count": null,
   "id": "78f2e9f5",
   "metadata": {},
   "outputs": [],
   "source": [
    "def return_lists():\n",
    "    driver\n",
    "    session = requests.Session()\n",
    "    session.cookies.set(\"_gid\", \"GA1.3.314021994.1759552291\", domain=\".hkust.edu.hk\", path=\"/\")\n",
    "    session.cookies.set(\"_ga_YM7G3KDNC5\", \"GS2.3.s1759552291$o1$g1$t1759552318$j33$l0$h0\", domain=\".hkust.edu.hk\", path=\"/\")\n",
    "    session.cookies.set(\"_ga\", \"GA1.3.2109487230.1759552291\", domain=\".hkust.edu.hk\", path=\"/\")\n",
    "    session.cookies.set(\"_gat\", \"1\", domain=\".hkust.edu.hk\", path=\"/\")\n",
    "    session.cookies.set(\"PHPSESSID\", \"f968accf7dbeea8ad09c69019b4fc2e4da70b4de7b55360cf5aa14cbdfb3cd03\", domain=\"career.hkust.edu.hk\", path=\"/\")\n",
    "    url = \"https://career.hkust.edu.hk/web/job.php?keywords=\"\n",
    "    response = session.get(url)\n",
    "    soup = BeautifulSoup(response.text, \"html.parser\")\n",
    "\n",
    "    select_bn = soup.find('select',attrs={'name':'BN[]'})\n",
    "    options = select_bn.find_all('option')\n",
    "    Bus_natures = [option.get_text(strip=True) for option in options]\n",
    "\n",
    "    select_jn = soup.find('select',attrs={'name':'JN[]'}) \n",
    "    options = select_jn.find_all('option')\n",
    "    Job_natures = [option.get_text(strip=True) for option in options]\n",
    "\n",
    "    select_emt = soup.find('select',attrs={'name':'EMT[]'}) \n",
    "    options = select_emt.find_all('option')\n",
    "    emts = [option.get_text(strip=True) for option in options]\n",
    "\n",
    "    Bus_natures.pop(0)\n",
    "    Job_natures.pop(0)\n",
    "\n",
    "    emts.pop(0)\n",
    "    emts.pop(-1)\n",
    "    return Bus_natures,Job_natures,emts"
   ]
  },
  {
   "cell_type": "code",
   "execution_count": 20,
   "id": "156ff63b",
   "metadata": {},
   "outputs": [
    {
     "ename": "AttributeError",
     "evalue": "'NoneType' object has no attribute 'find_all'",
     "output_type": "error",
     "traceback": [
      "\u001b[0;31m---------------------------------------------------------------------------\u001b[0m",
      "\u001b[0;31mAttributeError\u001b[0m                            Traceback (most recent call last)",
      "Cell \u001b[0;32mIn[20], line 1\u001b[0m\n\u001b[0;32m----> 1\u001b[0m Bus_natures,Job_natures,emts \u001b[38;5;241m=\u001b[39m return_lists()\n",
      "Cell \u001b[0;32mIn[19], line 14\u001b[0m, in \u001b[0;36mreturn_lists\u001b[0;34m()\u001b[0m\n\u001b[1;32m     11\u001b[0m soup \u001b[38;5;241m=\u001b[39m BeautifulSoup(response\u001b[38;5;241m.\u001b[39mtext, \u001b[38;5;124m\"\u001b[39m\u001b[38;5;124mhtml.parser\u001b[39m\u001b[38;5;124m\"\u001b[39m)\n\u001b[1;32m     13\u001b[0m select_bn \u001b[38;5;241m=\u001b[39m soup\u001b[38;5;241m.\u001b[39mfind(\u001b[38;5;124m'\u001b[39m\u001b[38;5;124mselect\u001b[39m\u001b[38;5;124m'\u001b[39m,attrs\u001b[38;5;241m=\u001b[39m{\u001b[38;5;124m'\u001b[39m\u001b[38;5;124mname\u001b[39m\u001b[38;5;124m'\u001b[39m:\u001b[38;5;124m'\u001b[39m\u001b[38;5;124mBN[]\u001b[39m\u001b[38;5;124m'\u001b[39m})\n\u001b[0;32m---> 14\u001b[0m options \u001b[38;5;241m=\u001b[39m select_bn\u001b[38;5;241m.\u001b[39mfind_all(\u001b[38;5;124m'\u001b[39m\u001b[38;5;124moption\u001b[39m\u001b[38;5;124m'\u001b[39m)\n\u001b[1;32m     15\u001b[0m Bus_natures \u001b[38;5;241m=\u001b[39m [option\u001b[38;5;241m.\u001b[39mget_text(strip\u001b[38;5;241m=\u001b[39m\u001b[38;5;28;01mTrue\u001b[39;00m) \u001b[38;5;28;01mfor\u001b[39;00m option \u001b[38;5;129;01min\u001b[39;00m options]\n\u001b[1;32m     17\u001b[0m select_jn \u001b[38;5;241m=\u001b[39m soup\u001b[38;5;241m.\u001b[39mfind(\u001b[38;5;124m'\u001b[39m\u001b[38;5;124mselect\u001b[39m\u001b[38;5;124m'\u001b[39m,attrs\u001b[38;5;241m=\u001b[39m{\u001b[38;5;124m'\u001b[39m\u001b[38;5;124mname\u001b[39m\u001b[38;5;124m'\u001b[39m:\u001b[38;5;124m'\u001b[39m\u001b[38;5;124mJN[]\u001b[39m\u001b[38;5;124m'\u001b[39m}) \n",
      "\u001b[0;31mAttributeError\u001b[0m: 'NoneType' object has no attribute 'find_all'"
     ]
    }
   ],
   "source": [
    "Bus_natures,Job_natures,emts = return_lists()"
   ]
  }
 ],
 "metadata": {
  "kernelspec": {
   "display_name": "base",
   "language": "python",
   "name": "python3"
  },
  "language_info": {
   "codemirror_mode": {
    "name": "ipython",
    "version": 3
   },
   "file_extension": ".py",
   "mimetype": "text/x-python",
   "name": "python",
   "nbconvert_exporter": "python",
   "pygments_lexer": "ipython3",
   "version": "3.13.5"
  }
 },
 "nbformat": 4,
 "nbformat_minor": 5
}
