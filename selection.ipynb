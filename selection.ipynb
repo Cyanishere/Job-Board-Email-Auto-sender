{
 "cells": [
  {
   "cell_type": "code",
   "execution_count": null,
   "id": "c6a013f0",
   "metadata": {},
   "outputs": [],
   "source": [
    "import requests\n",
    "from bs4 import BeautifulSoup\n",
    "from ipynb.fs.full import web_scraping\n",
    "cookies = web_scraping.cookies\n"
   ]
  },
  {
   "cell_type": "code",
   "execution_count": null,
   "id": "78f2e9f5",
   "metadata": {},
   "outputs": [],
   "source": [
    "def return_lists():\n",
    "    session = requests.Session()\n",
    "    for cookie in cookies:\n",
    "        session.cookies.set(cookie['name'], cookie['value'])\n",
    "    url = \"https://career.hkust.edu.hk/web/job.php?keywords=\"\n",
    "    response = session.get(url)\n",
    "    soup = BeautifulSoup(response.text, \"html.parser\")\n",
    "\n",
    "    select_bn = soup.find('select',attrs={'name':'BN[]'})\n",
    "    options = select_bn.find_all('option')\n",
    "    Bus_natures = [option.get_text(strip=True) for option in options]\n",
    "\n",
    "    select_jn = soup.find('select',attrs={'name':'JN[]'}) \n",
    "    options = select_jn.find_all('option')\n",
    "    Job_natures = [option.get_text(strip=True) for option in options]\n",
    "\n",
    "    select_emt = soup.find('select',attrs={'name':'EMT[]'}) \n",
    "    options = select_emt.find_all('option')\n",
    "    emts = [option.get_text(strip=True) for option in options]\n",
    "\n",
    "    Bus_natures.pop(0)\n",
    "    Job_natures.pop(0)\n",
    "\n",
    "    emts.pop(0)\n",
    "    emts.pop(-1)\n",
    "    return Bus_natures,Job_natures,emts"
   ]
  }
 ],
 "metadata": {
  "kernelspec": {
   "display_name": "base",
   "language": "python",
   "name": "python3"
  },
  "language_info": {
   "codemirror_mode": {
    "name": "ipython",
    "version": 3
   },
   "file_extension": ".py",
   "mimetype": "text/x-python",
   "name": "python",
   "nbconvert_exporter": "python",
   "pygments_lexer": "ipython3",
   "version": "3.13.5"
  }
 },
 "nbformat": 4,
 "nbformat_minor": 5
}
